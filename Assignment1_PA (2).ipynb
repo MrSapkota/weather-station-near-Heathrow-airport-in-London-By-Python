{
 "cells": [
  {
   "cell_type": "markdown",
   "id": "0c51a5c3",
   "metadata": {},
   "source": [
    "                                       REGRESSION ANALYSIS REPORT\n",
    "                                          Predictive Analysis\n",
    "                                               Group 5"
   ]
  },
  {
   "cell_type": "markdown",
   "id": "d0510bee",
   "metadata": {},
   "source": [
    "DECLARATION:\n",
    "\n",
    "By including this statement, we the authors of this work, verify that:\n",
    "\n",
    "I hold a copy of this assignment that we can produce if the original is lost or damaged.\n",
    "\n",
    "I hereby certify that no part of this assignment/product has been copied from any other student’s work or from any other source except where due acknowledgement is made in the assignment.\n",
    "\n",
    "No part of this assignment/product has been written/produced for us by another person except where such collaboration has been authorised by the subject lecturer/tutor concerned.\n",
    "\n",
    "I am aware that this work may be reproduced and submitted to plagiarism detection software programs for the purpose of detecting possible plagiarism (which may retain a copy on its database for future plagiarism checking).\n",
    "\n",
    "I hereby certify that we have read and understand what the School of Computer, Data and Mathematical Sciences defines as minor and substantial breaches of misconduct as outlined in the learning guide for this unit.\n",
    "\n",
    "                                       ——————————————————————"
   ]
  },
  {
   "cell_type": "markdown",
   "id": "af295b58",
   "metadata": {},
   "source": [
    "DATA DESCRIPTION\n",
    "\n",
    "For the purpose of regression analysis, we are using the \"weather.csv\" dataset. The measurement of this dataset were recorded by a weather station near Heathrow airport in London, UK.\n",
    "There are 10 attributes to the data set:\n",
    "    \n",
    "1. date - recorded date of measurement\n",
    "\n",
    "2. cloud_cover - cloud cover measurement in oktas\n",
    "\n",
    "3. sunshine - sunshine measurement in hours\n",
    "\n",
    "4. global_radiation - irradiance measurement in Watt per square meter\n",
    "\n",
    "5. max_temp - maximum temperature recorded in degrees Celsius\n",
    "\n",
    "6. mean_temp - mean temperature in degrees Celsius\n",
    "\n",
    "7. min_temp - minimum temperature recorded in degrees Celsius\n",
    "\n",
    "8. precipitation - precipitation measurement in millimeters\n",
    "\n",
    "9. pressure - pressure measurement in Pascals\n",
    "\n",
    "10. snow_depth - snow depth measurement in centimeters\n"
   ]
  },
  {
   "cell_type": "markdown",
   "id": "a23bd9d7",
   "metadata": {},
   "source": [
    "TARGET VARIABLE\n",
    "\n",
    "A target variable selected is max_temp for which we are going to predict the maximum temperature for the day using three \n",
    "different analysis, names, linear regression, logistic regression and the rigid regression analysis. "
   ]
  },
  {
   "cell_type": "markdown",
   "id": "031f1713",
   "metadata": {},
   "source": [
    "QUESTION 1: LINEAR REGRESSION MODEL\n",
    "\n",
    "A linear regression model is the method to discover the association between a target variable and one or more predictors by fitting a linear equation on observed data. It can either be,\n",
    "\n",
    "i) A simple Linear Regression\n",
    "ii) Multiple Linear Regression\n",
    "\n",
    "In a simple linear regression, there is one target and one predictor variable but in multiple regression tehre are more than one predictors. There are different methods to find the parameters of a linear models, they are, Ordinary Least Square(OLS) method, Gradient Descent method, and using a python libraries with built in functions.\n",
    "\n",
    "Given below are the steps followed in order to find the parameter of the linear model.\n",
    "\n",
    " Step1: Loading and Viewing the dataset\n",
    " \n",
    " Step2: Data Cleaning and Pre-Processing\n",
    " \n",
    " Step3: Selecting relevant features using feature selection technique, that is, \n",
    " \n",
    " Step3: Spilitting the data into training and test dataset.\n",
    " \n",
    " Step4: Building a linear regression model using OLS method and Gradient Descent methods on train data set.\n",
    " \n",
    " Step5: Predicting the target data on train data and test data set.\n",
    " \n",
    " Step6: Checking the accuracy of the models based on the following factors: R-Squared value and Mean Squared Error (MSE)\n",
    " \n",
    " Step7: Visualizing the model"
   ]
  },
  {
   "cell_type": "code",
   "execution_count": 1,
   "id": "20171c10",
   "metadata": {},
   "outputs": [],
   "source": [
    "#Importing necessary packages\n",
    "from sklearn.linear_model import LinearRegression\n",
    "import pandas as pd\n",
    "import numpy as np\n",
    "%matplotlib inline\n",
    "import matplotlib.pyplot as plt\n",
    "from sklearn.metrics import mean_absolute_error, mean_squared_error, r2_score\n",
    "from sklearn.model_selection import train_test_split\n",
    "import seaborn as sns\n",
    "from sklearn.feature_selection import SelectKBest, f_regression\n",
    "from sklearn.preprocessing import StandardScaler\n",
    "from sklearn.linear_model import LogisticRegression\n",
    "from sklearn.metrics import confusion_matrix, accuracy_score, classification_report"
   ]
  },
  {
   "cell_type": "code",
   "execution_count": 2,
   "id": "8e5c8d13",
   "metadata": {},
   "outputs": [
    {
     "name": "stdout",
     "output_type": "stream",
     "text": [
      "       date  cloud_cover  sunshine  global_radiation  max_temp  mean_temp  \\\n",
      "0  19790101          2.0       7.0              52.0       2.3       -4.1   \n",
      "1  19790102          6.0       1.7              27.0       1.6       -2.6   \n",
      "2  19790103          5.0       0.0              13.0       1.3       -2.8   \n",
      "3  19790104          8.0       0.0              13.0      -0.3       -2.6   \n",
      "4  19790105          6.0       2.0              29.0       5.6       -0.8   \n",
      "\n",
      "   min_temp  precipitation  pressure  snow_depth  \n",
      "0      -7.5            0.4  101900.0         9.0  \n",
      "1      -7.5            0.0  102530.0         8.0  \n",
      "2      -7.2            0.0  102050.0         4.0  \n",
      "3      -6.5            0.0  100840.0         2.0  \n",
      "4      -1.4            0.0  102250.0         1.0  \n",
      "               date   cloud_cover      sunshine  global_radiation  \\\n",
      "count  1.534100e+04  15322.000000  15341.000000      15322.000000   \n",
      "mean   1.999567e+07      5.268242      4.350238        118.756951   \n",
      "std    1.212176e+05      2.070072      4.028339         88.898272   \n",
      "min    1.979010e+07      0.000000      0.000000          8.000000   \n",
      "25%    1.989070e+07      4.000000      0.500000         41.000000   \n",
      "50%    2.000010e+07      6.000000      3.500000         95.000000   \n",
      "75%    2.010070e+07      7.000000      7.200000        186.000000   \n",
      "max    2.020123e+07      9.000000     16.000000        402.000000   \n",
      "\n",
      "           max_temp     mean_temp      min_temp  precipitation       pressure  \\\n",
      "count  15335.000000  15305.000000  15339.000000   15335.000000   15337.000000   \n",
      "mean      15.388777     11.475511      7.559867       1.668634  101536.605594   \n",
      "std        6.554754      5.729709      5.326756       3.738540    1049.722604   \n",
      "min       -6.200000     -7.600000    -11.800000       0.000000   95960.000000   \n",
      "25%       10.500000      7.000000      3.500000       0.000000  100920.000000   \n",
      "50%       15.000000     11.400000      7.800000       0.000000  101620.000000   \n",
      "75%       20.300000     16.000000     11.800000       1.600000  102240.000000   \n",
      "max       37.900000     29.000000     22.300000      61.800000  104820.000000   \n",
      "\n",
      "         snow_depth  \n",
      "count  13900.000000  \n",
      "mean       0.037986  \n",
      "std        0.545633  \n",
      "min        0.000000  \n",
      "25%        0.000000  \n",
      "50%        0.000000  \n",
      "75%        0.000000  \n",
      "max       22.000000  \n",
      "<class 'pandas.core.frame.DataFrame'>\n",
      "RangeIndex: 15341 entries, 0 to 15340\n",
      "Data columns (total 10 columns):\n",
      " #   Column            Non-Null Count  Dtype  \n",
      "---  ------            --------------  -----  \n",
      " 0   date              15341 non-null  int64  \n",
      " 1   cloud_cover       15322 non-null  float64\n",
      " 2   sunshine          15341 non-null  float64\n",
      " 3   global_radiation  15322 non-null  float64\n",
      " 4   max_temp          15335 non-null  float64\n",
      " 5   mean_temp         15305 non-null  float64\n",
      " 6   min_temp          15339 non-null  float64\n",
      " 7   precipitation     15335 non-null  float64\n",
      " 8   pressure          15337 non-null  float64\n",
      " 9   snow_depth        13900 non-null  float64\n",
      "dtypes: float64(9), int64(1)\n",
      "memory usage: 1.2 MB\n",
      "None\n"
     ]
    }
   ],
   "source": [
    "#loading and viewing dataset\n",
    "weather=pd.read_csv(\"weather.csv\")\n",
    "\n",
    "# Display the first 5 rows of the dataset\n",
    "print(weather.head())\n",
    "\n",
    "# Describing the dataset\n",
    "print(weather.describe())\n",
    "\n",
    "# Display information about the dataset\n",
    "print(weather.info())\n"
   ]
  },
  {
   "cell_type": "markdown",
   "id": "566236a7",
   "metadata": {},
   "source": [
    "DATA CLEANING AND PRE-PROCESSING\n",
    "\n",
    "In this step, we checked for missing values and dropped the rows with missing values."
   ]
  },
  {
   "cell_type": "code",
   "execution_count": 3,
   "id": "6271a4f5",
   "metadata": {},
   "outputs": [
    {
     "data": {
      "text/plain": [
       "date                   0\n",
       "cloud_cover           19\n",
       "sunshine               0\n",
       "global_radiation      19\n",
       "max_temp               6\n",
       "mean_temp             36\n",
       "min_temp               2\n",
       "precipitation          6\n",
       "pressure               4\n",
       "snow_depth          1441\n",
       "dtype: int64"
      ]
     },
     "execution_count": 3,
     "metadata": {},
     "output_type": "execute_result"
    }
   ],
   "source": [
    "#Checking for null values\n",
    "weather.isnull().sum()"
   ]
  },
  {
   "cell_type": "markdown",
   "id": "c749c422",
   "metadata": {},
   "source": [
    "This shows that except date column all other attributes have missing values."
   ]
  },
  {
   "cell_type": "code",
   "execution_count": 4,
   "id": "fc8cdbca",
   "metadata": {},
   "outputs": [],
   "source": [
    "#Dropping the rows with NA values\n",
    "weather.dropna(inplace=True)"
   ]
  },
  {
   "cell_type": "code",
   "execution_count": null,
   "id": "68963685",
   "metadata": {},
   "outputs": [],
   "source": [
    "#Converting date column values to appropriate date format\n",
    "#weather['date']=pd.to_datetime(weather['date'],format='%Y%m%d')\n",
    "#weather.head(15)"
   ]
  },
  {
   "cell_type": "code",
   "execution_count": null,
   "id": "cf386403",
   "metadata": {},
   "outputs": [],
   "source": [
    "cor_matrix=weather.corr()\n",
    "plt.figure(figsize=(8,8))\n",
    "sns.heatmap(cor_matrix,annot=True,cmap='coolwarm',center=0)\n",
    "plt.title(\"Heatmap for Correlation Matrix of Weather data\")\n",
    "plt.show()"
   ]
  },
  {
   "cell_type": "markdown",
   "id": "5d4105a2",
   "metadata": {},
   "source": [
    "This heatmap reveals how strongly or weakly two attributes are related.\n"
   ]
  },
  {
   "cell_type": "markdown",
   "id": "272a1cf7",
   "metadata": {},
   "source": [
    "SETTING TARGET VARIABLE (y) and PREDICTORS (X)\n",
    "\n",
    "In order to select the target variable we mention the name of the column from the weather dataset and store the values in y variable"
   ]
  },
  {
   "cell_type": "code",
   "execution_count": null,
   "id": "6fc7eac5",
   "metadata": {},
   "outputs": [],
   "source": [
    "#setting target variable in y\n",
    "\n",
    "y = weather[\"max_temp\"]  # Target variable\n",
    "y\n",
    "\n",
    "\n"
   ]
  },
  {
   "cell_type": "markdown",
   "id": "754d44ab",
   "metadata": {},
   "source": [
    "SETTING LIST OF PREDICTORS IN X\n",
    "\n",
    "In order to set list of predictor in X, we drop the column that we have set as our target variable from the weather dataset."
   ]
  },
  {
   "cell_type": "code",
   "execution_count": null,
   "id": "d012d96d",
   "metadata": {},
   "outputs": [],
   "source": [
    "#Dropping columns that are not relevant as predictors\n",
    "X=weather.drop(columns=['max_temp'])\n",
    "X"
   ]
  },
  {
   "cell_type": "markdown",
   "id": "2ca357eb",
   "metadata": {},
   "source": [
    "DATA SCALING\n",
    "\n",
    "At this stage, we transform our data to have zero mean and variance of 1. This is done to normalize the data so that there wont be a vast difference in magnitudes in teh variables."
   ]
  },
  {
   "cell_type": "code",
   "execution_count": null,
   "id": "8af1497b",
   "metadata": {},
   "outputs": [],
   "source": [
    "#Data Scaling\n",
    "# Standardize features (mean=0, variance=1)\n",
    "scaler = StandardScaler()\n",
    "X_scaled = scaler.fit_transform(X)\n",
    "X_scaled"
   ]
  },
  {
   "cell_type": "markdown",
   "id": "9d888278",
   "metadata": {},
   "source": [
    "FEATURE SELECTION\n",
    "\n",
    "The best features to predict max_temp of the day is selected using the technique called SelectKBest and f_regression"
   ]
  },
  {
   "cell_type": "code",
   "execution_count": null,
   "id": "416bc295",
   "metadata": {},
   "outputs": [],
   "source": [
    "#Select relevant features using SelectKBest and f_regression\n",
    "num= 7  #number of features to select out of 9 available features\n",
    "selector = SelectKBest(score_func=f_regression, k=num)\n",
    "X_final = selector.fit_transform(X_scaled, y)\n",
    "X_final"
   ]
  },
  {
   "cell_type": "code",
   "execution_count": null,
   "id": "b5b99e5a",
   "metadata": {},
   "outputs": [],
   "source": []
  },
  {
   "cell_type": "markdown",
   "id": "4bc3b453",
   "metadata": {},
   "source": [
    "DIVIDING THE DATASET\n",
    "\n",
    "For the purpose of building the models, split the dataset into train and test dataset. Then the model is build on train dataset and prediction is done on both train and test set. Splitting is done using Scikit-learn package train_test_split function. 80 percentage of the data is used as train data while remaining 20 percentage as test data."
   ]
  },
  {
   "cell_type": "code",
   "execution_count": null,
   "id": "4cef28ed",
   "metadata": {},
   "outputs": [],
   "source": [
    "# Split the data into training and testing sets\n",
    "x_train, x_test, y_train, y_test = train_test_split(X_final, y, test_size=0.2, random_state=42)"
   ]
  },
  {
   "cell_type": "markdown",
   "id": "c621ff02",
   "metadata": {},
   "source": [
    "QUESTION 1 (METHOD1): LINEAR MODEL USING LINEAR REGRESSION FUNCTION (OLS)  in SCIKIT-LEARN"
   ]
  },
  {
   "cell_type": "code",
   "execution_count": null,
   "id": "249e3f71",
   "metadata": {},
   "outputs": [],
   "source": [
    "#Building linear model\n",
    "model1 = LinearRegression()\n",
    "model1.fit(x_train, y_train)\n",
    "model1.intercept_, model1.coef_\n",
    "\n",
    "#predicting y values on train dataset\n",
    "y1_pred=model1.predict(x_train)\n",
    "\n",
    "#predicting y values on test dataset\n",
    "y2_pred=model1.predict(x_test)\n",
    "\n",
    "# Calculate Mean Squared Error (MSE) for prediction on train dataset\n",
    "mse_train = mean_squared_error(y_train, y1_pred)\n",
    "\n",
    "# Calculate R-squared for prediction on train dataset\n",
    "r2_train = r2_score(y_train, y1_pred)\n",
    "\n",
    "print(\"Mean Squared Error on train dataset is:\", mse_train)\n",
    "print(\"R-squared on train dataset is:\", r2_train)\n",
    "\n",
    "\n",
    "# Calculate Mean Squared Error (MSE) for prediction on test dataset\n",
    "mse_test = mean_squared_error(y_test, y2_pred)\n",
    "\n",
    "# Calculate R-squared for prediction on test dataset\n",
    "r2_test = r2_score(y_test, y2_pred)\n",
    "\n",
    "print(\"Mean Squared Error on test dataset is:\", mse_test)\n",
    "print(\"R-squared on test dataset is:\", r2_test)\n",
    "\n",
    "\n"
   ]
  },
  {
   "cell_type": "markdown",
   "id": "4a24559f",
   "metadata": {},
   "source": [
    "The above results shows that in both train and test dataset, the model is able to explain 87 percentage of the variance. In addition, the MSE for train data is 5.41 and for test data is 5.43 which are a small difference therefore, it can be said that model performs well and model predictors aligns well with the true values. "
   ]
  },
  {
   "cell_type": "markdown",
   "id": "e893fd64",
   "metadata": {},
   "source": [
    "LINEAR MODEL PLOT"
   ]
  },
  {
   "cell_type": "code",
   "execution_count": null,
   "id": "b82702b2",
   "metadata": {},
   "outputs": [],
   "source": [
    "\n",
    "\n",
    "\n",
    "plt.figure(figsize=(10, 6))\n",
    "\n",
    "# Plotting the training data predictions\n",
    "plt.scatter(y_train, y1_pred, color='blue', label='Training Data')\n",
    "# Plotting the test data predictions\n",
    "plt.scatter(y_test, y2_pred, color='green', label='Test Data')\n",
    "\n",
    "# Plotting the regression line\n",
    "plt.plot([min(y), max(y)], [min(y), max(y)], linestyle='--', color='red', label='Regression Line')\n",
    "\n",
    "plt.xlabel('True Max Temperature')\n",
    "plt.ylabel('Predicted Max Temperature')\n",
    "plt.title('Linear Regression Model: True vs. Predicted Max Temperature')\n",
    "plt.legend()\n",
    "plt.show()\n",
    "\n",
    "\n",
    "\n",
    "\n"
   ]
  },
  {
   "cell_type": "markdown",
   "id": "654356f1",
   "metadata": {},
   "source": [
    "QUESTION 1 (METHOD 2): LINEAR MODEL USING GRADIENT DESCENT METHOD"
   ]
  },
  {
   "cell_type": "code",
   "execution_count": null,
   "id": "bb40a1be",
   "metadata": {},
   "outputs": [],
   "source": [
    "# Implementing gradient descent for linear regression\n",
    "learning_rate = 0.01\n",
    "num_iterations = 1000\n",
    "num_features = x_train.shape[1]\n",
    "theta = np.random.randn(num_features)\n",
    "\n",
    "for iteration in range(num_iterations):\n",
    "    gradient = -2 * x_train.T.dot(y_train - x_train.dot(theta)) / len(y_train)\n",
    "    theta -= learning_rate * gradient\n",
    "\n",
    "# Step 6: Plot the linear model\n",
    "y3_pred = x_train.dot(theta)\n",
    "y4_pred = x_test.dot(theta)\n",
    "\n",
    "plt.figure(figsize=(10, 6))\n",
    "\n",
    "# Plotting the training data predictions\n",
    "plt.scatter(y_train, y3_pred, color='blue', label='Training Data')\n",
    "# Plotting the test data predictions\n",
    "plt.scatter(y_test, y4_pred, color='red', label='Test Data')\n",
    "\n",
    "# Plotting the regression line\n",
    "plt.plot([min(y), max(y)], [min(y), max(y)], linestyle='--', color='green', label='Regression Line')\n",
    "\n",
    "plt.xlabel('True Max Temperature')\n",
    "plt.ylabel('Predicted Max Temperature')\n",
    "plt.title('Linear Regression Model (Gradient Descent): True vs. Predicted Max Temperature')\n",
    "plt.legend()\n",
    "plt.show()\n",
    "\n",
    "# Print the model's performance metrics\n",
    "train_mse = mean_squared_error(y_train, y3_pred)\n",
    "train_r2 = r2_score(y_train, y3_pred)\n",
    "test_mse = mean_squared_error(y_test, y4_pred)\n",
    "test_r2 = r2_score(y_test, y4_pred)\n",
    "\n",
    "print(\"Mean Squared Error on train dataset:\", train_mse)\n",
    "print(\"R-squared on train dataset:\", train_r2)\n",
    "print(\"Mean Squared Error on test dataset:\", test_mse)\n",
    "print(\"R-squared on test dataset:\", test_r2)"
   ]
  },
  {
   "cell_type": "markdown",
   "id": "1a127563",
   "metadata": {},
   "source": [
    "It can be noted that the MSE obtained on train and test data is high and the R-squared value is negative which means the linear model build using gradient descent is not performing well on the given dataset."
   ]
  },
  {
   "cell_type": "markdown",
   "id": "ce03529e",
   "metadata": {},
   "source": [
    "QUESTION 2: LOGISTIC REGRESSION"
   ]
  },
  {
   "cell_type": "markdown",
   "id": "3b0813b0",
   "metadata": {},
   "source": [
    "Logistic regression is performed when the target variable is categorical but in our case the dependent variable \"max_temp\" is continuous or numerical so to perform the logistic regression we first need to transform the variable \"max_temp\" to categorical.\n",
    "Logistic regression can be \n",
    "\n",
    "i)Binary Classification Logistic Regression\n",
    "\n",
    "ii)Multinomial Classification Logistic Regression"
   ]
  },
  {
   "cell_type": "markdown",
   "id": "45118780",
   "metadata": {},
   "source": [
    "BINARY CLASSIFICATION \n",
    "\n",
    "The target variable has only two possible outcomes which is 0 and 1 in our case. To achieve this we first fixed a threshhold value which is half the highest value in the column \"max_temp\". Then we compare each y-values with the threshold and assign 1 to it if above threshold value and assign 0 to it if less than the threshold. Then we split the data into train and test set and build logistic regression model on it."
   ]
  },
  {
   "cell_type": "code",
   "execution_count": null,
   "id": "cb20013a",
   "metadata": {},
   "outputs": [],
   "source": [
    "# Set a threshold to convert temperature values into binary classes\n",
    "threshold = 19 \n",
    "y_binary = (y > threshold).astype(int)  # 1 if above threshold, 0 otherwise\n",
    "y_binary\n",
    "\n",
    "\n",
    "\n"
   ]
  },
  {
   "cell_type": "code",
   "execution_count": null,
   "id": "93125c22",
   "metadata": {},
   "outputs": [],
   "source": [
    "#Split the dataset into train and test data\n",
    "x_train, x_test, y_train, y_test = train_test_split(X_final, y_binary, test_size=0.2, random_state=42)"
   ]
  },
  {
   "cell_type": "code",
   "execution_count": null,
   "id": "f1a2710f",
   "metadata": {},
   "outputs": [],
   "source": [
    "# Create a logistic regression model for dataset \n",
    "model2 = LogisticRegression()\n",
    "model2.fit(x_train,y_train)\n",
    "y5=model2.predict(x_train)\n",
    "y6=model2.predict(x_test)\n",
    "\n"
   ]
  },
  {
   "cell_type": "code",
   "execution_count": null,
   "id": "bb8ba39d",
   "metadata": {},
   "outputs": [],
   "source": [
    "conf_matrix1 = confusion_matrix(y_train,y5)\n",
    "conf_matrix2 = confusion_matrix(y_test,y6)\n",
    "accuracy1 = accuracy_score(y_test, y6)\n",
    "accuracy2=accuracy_score(y_train,y5)\n",
    "classification_rep1 = classification_report(y_train, y5)\n",
    "classification_rep2 = classification_report(y_test, y6)\n",
    "\n",
    "print(\"Confusion Matrix of a model on tain data:\\n\", conf_matrix1)\n",
    "print(\"Confusion Matrix of a model on test data:\\n\", conf_matrix2)\n",
    "print(\"Accuracy on test data :\", accuracy1)\n",
    "print(\"Accuracy on train data :\", accuracy2)\n",
    "print(\"Classification Report on train data:\\n\", classification_rep1)\n",
    "print(\"Classification Report on test data:\\n\", classification_rep2)\n"
   ]
  },
  {
   "cell_type": "markdown",
   "id": "b033c1a8",
   "metadata": {},
   "source": [
    "This shows that the accuracy of the model on test data and train data is almost same, that is, 92%. And the confusion matrix obtained for test data reveals that the False Postive (108) and False Negavtive (119) values are very less indicating a model to be perform well in predicting the target varibale."
   ]
  },
  {
   "cell_type": "markdown",
   "id": "aa1de94e",
   "metadata": {},
   "source": [
    "MULTINOMIAL CLASSIFICATION LOGISTIC REGRESSION\n",
    "\n",
    "As said in multinomial logistic regression, the target variable may have more than two possible outcomes. In our case, \"max_temp\" may be categorised as cold, moderate, or hot temperature. Therefore, again before we could build the model, we convert the \"max_temp\" variable which is continuous to discrete categories and then use it to build the logistic model. In order to do so, \n",
    "\n",
    "First we divide the temperature into three categories as cold, moderate and hot.\n",
    "\n",
    "Secondly, we utilize the library function pd.cut() to set up three bins to store different temperature values and then assign temperature categories to each bins based on their range of temperature values."
   ]
  },
  {
   "cell_type": "code",
   "execution_count": null,
   "id": "57b547da",
   "metadata": {},
   "outputs": [],
   "source": [
    "temp_categories = [\"cold\", \"moderate\", \"hot\"] # categorize temperature into three categories\n",
    "\n",
    "y_multinomial = pd.cut(y, bins=[-np.inf, 17, 30, np.inf], labels=temp_categories)\n"
   ]
  },
  {
   "cell_type": "code",
   "execution_count": null,
   "id": "a08a60a9",
   "metadata": {},
   "outputs": [],
   "source": [
    "#Split the dataset into train and test data\n",
    "x_train, x_test, y_train, y_test = train_test_split(X_final, y_multinomial, test_size=0.2, random_state=42)"
   ]
  },
  {
   "cell_type": "code",
   "execution_count": null,
   "id": "238ee895",
   "metadata": {},
   "outputs": [],
   "source": [
    "#Build the multinomial logistic regression model\n",
    "model3 = LogisticRegression(multi_class='multinomial', solver='lbfgs')\n",
    "model3.fit(x_train, y_train)\n",
    "\n",
    "# Predict the temperature values\n",
    "y7= model3.predict(x_train)\n",
    "y8 = model3.predict(x_test)\n",
    "\n",
    "conf_matrix_train = confusion_matrix(y_train, y7)\n",
    "conf_matrix_test = confusion_matrix(y_test, y8)\n",
    "classification_rep_train = classification_report(y_train, y7)\n",
    "classification_rep_test = classification_report(y_test, y8)\n",
    "accuracy_train = accuracy_score(y_train, y7)\n",
    "accuracy_test=accuracy_score(y_test,y8)\n",
    "\n",
    "print(\"Confusion Matrix for train data:\\n\", conf_matrix_train)\n",
    "print(\"Confusion Matrix for test data:\\n\", conf_matrix_test)\n",
    "print(\"Classification Report of the model on train data:\\n\", classification_rep_train)\n",
    "print(\"Classification Report of the model on train data:\\n\", classification_rep_test)\n",
    "print(\"Accuracy on test data :\", accuracy_test)\n",
    "print(\"Accuracy on train data :\", accuracy_train)\n",
    "\n",
    "\n",
    "\n",
    "\n",
    "\n",
    "\n",
    "\n"
   ]
  },
  {
   "cell_type": "markdown",
   "id": "22f9f33d",
   "metadata": {},
   "source": [
    "This shows that for both train and test dataset, the model performs well with accuracy of 91% in predicting the true values of max_temp"
   ]
  },
  {
   "cell_type": "markdown",
   "id": "0563c0e3",
   "metadata": {},
   "source": [
    "QUESTION3: RIDGE REGRESSION"
   ]
  },
  {
   "cell_type": "code",
   "execution_count": 5,
   "id": "cee67e31",
   "metadata": {},
   "outputs": [],
   "source": [
    "# Common imports\n",
    "import numpy as np\n",
    "import os\n",
    "import pandas as pd\n",
    "from sklearn.preprocessing import StandardScaler\n",
    "from sklearn.linear_model import Ridge\n",
    "# to make this notebook's output stable across runs\n",
    "np.random.seed(47)\n",
    "# To plot pretty figures\n",
    "%matplotlib inline\n",
    "import matplotlib as mpl\n",
    "import matplotlib.pyplot as plt\n",
    "mpl.rc('axes', labelsize=14)\n",
    "mpl.rc('xtick', labelsize=12)\n",
    "mpl.rc('ytick', labelsize=12)"
   ]
  },
  {
   "cell_type": "code",
   "execution_count": 6,
   "id": "9072acd1",
   "metadata": {},
   "outputs": [
    {
     "data": {
      "text/html": [
       "<div>\n",
       "<style scoped>\n",
       "    .dataframe tbody tr th:only-of-type {\n",
       "        vertical-align: middle;\n",
       "    }\n",
       "\n",
       "    .dataframe tbody tr th {\n",
       "        vertical-align: top;\n",
       "    }\n",
       "\n",
       "    .dataframe thead th {\n",
       "        text-align: right;\n",
       "    }\n",
       "</style>\n",
       "<table border=\"1\" class=\"dataframe\">\n",
       "  <thead>\n",
       "    <tr style=\"text-align: right;\">\n",
       "      <th></th>\n",
       "      <th>date</th>\n",
       "      <th>cloud_cover</th>\n",
       "      <th>sunshine</th>\n",
       "      <th>global_radiation</th>\n",
       "      <th>max_temp</th>\n",
       "      <th>mean_temp</th>\n",
       "      <th>min_temp</th>\n",
       "      <th>precipitation</th>\n",
       "      <th>pressure</th>\n",
       "      <th>snow_depth</th>\n",
       "    </tr>\n",
       "  </thead>\n",
       "  <tbody>\n",
       "    <tr>\n",
       "      <th>0</th>\n",
       "      <td>19790101</td>\n",
       "      <td>2.0</td>\n",
       "      <td>7.0</td>\n",
       "      <td>52.0</td>\n",
       "      <td>2.3</td>\n",
       "      <td>-4.1</td>\n",
       "      <td>-7.5</td>\n",
       "      <td>0.4</td>\n",
       "      <td>101900.0</td>\n",
       "      <td>9.0</td>\n",
       "    </tr>\n",
       "    <tr>\n",
       "      <th>1</th>\n",
       "      <td>19790102</td>\n",
       "      <td>6.0</td>\n",
       "      <td>1.7</td>\n",
       "      <td>27.0</td>\n",
       "      <td>1.6</td>\n",
       "      <td>-2.6</td>\n",
       "      <td>-7.5</td>\n",
       "      <td>0.0</td>\n",
       "      <td>102530.0</td>\n",
       "      <td>8.0</td>\n",
       "    </tr>\n",
       "    <tr>\n",
       "      <th>2</th>\n",
       "      <td>19790103</td>\n",
       "      <td>5.0</td>\n",
       "      <td>0.0</td>\n",
       "      <td>13.0</td>\n",
       "      <td>1.3</td>\n",
       "      <td>-2.8</td>\n",
       "      <td>-7.2</td>\n",
       "      <td>0.0</td>\n",
       "      <td>102050.0</td>\n",
       "      <td>4.0</td>\n",
       "    </tr>\n",
       "    <tr>\n",
       "      <th>3</th>\n",
       "      <td>19790104</td>\n",
       "      <td>8.0</td>\n",
       "      <td>0.0</td>\n",
       "      <td>13.0</td>\n",
       "      <td>-0.3</td>\n",
       "      <td>-2.6</td>\n",
       "      <td>-6.5</td>\n",
       "      <td>0.0</td>\n",
       "      <td>100840.0</td>\n",
       "      <td>2.0</td>\n",
       "    </tr>\n",
       "    <tr>\n",
       "      <th>4</th>\n",
       "      <td>19790105</td>\n",
       "      <td>6.0</td>\n",
       "      <td>2.0</td>\n",
       "      <td>29.0</td>\n",
       "      <td>5.6</td>\n",
       "      <td>-0.8</td>\n",
       "      <td>-1.4</td>\n",
       "      <td>0.0</td>\n",
       "      <td>102250.0</td>\n",
       "      <td>1.0</td>\n",
       "    </tr>\n",
       "  </tbody>\n",
       "</table>\n",
       "</div>"
      ],
      "text/plain": [
       "       date  cloud_cover  sunshine  global_radiation  max_temp  mean_temp  \\\n",
       "0  19790101          2.0       7.0              52.0       2.3       -4.1   \n",
       "1  19790102          6.0       1.7              27.0       1.6       -2.6   \n",
       "2  19790103          5.0       0.0              13.0       1.3       -2.8   \n",
       "3  19790104          8.0       0.0              13.0      -0.3       -2.6   \n",
       "4  19790105          6.0       2.0              29.0       5.6       -0.8   \n",
       "\n",
       "   min_temp  precipitation  pressure  snow_depth  \n",
       "0      -7.5            0.4  101900.0         9.0  \n",
       "1      -7.5            0.0  102530.0         8.0  \n",
       "2      -7.2            0.0  102050.0         4.0  \n",
       "3      -6.5            0.0  100840.0         2.0  \n",
       "4      -1.4            0.0  102250.0         1.0  "
      ]
     },
     "execution_count": 6,
     "metadata": {},
     "output_type": "execute_result"
    }
   ],
   "source": [
    "X_dummy = pd.get_dummies(data=weather, drop_first=True)\n",
    "X_dummy.head()"
   ]
  },
  {
   "cell_type": "code",
   "execution_count": 8,
   "id": "7b078131",
   "metadata": {},
   "outputs": [
    {
     "name": "stderr",
     "output_type": "stream",
     "text": [
      "C:\\Users\\Anup Gupta\\AppData\\Local\\Temp\\ipykernel_16288\\1700958527.py:1: FutureWarning: In a future version of pandas all arguments of DataFrame.drop except for the argument 'labels' will be keyword-only.\n",
      "  X_dummy = X_dummy.drop(['max_temp'],1)\n"
     ]
    },
    {
     "data": {
      "text/html": [
       "<div>\n",
       "<style scoped>\n",
       "    .dataframe tbody tr th:only-of-type {\n",
       "        vertical-align: middle;\n",
       "    }\n",
       "\n",
       "    .dataframe tbody tr th {\n",
       "        vertical-align: top;\n",
       "    }\n",
       "\n",
       "    .dataframe thead th {\n",
       "        text-align: right;\n",
       "    }\n",
       "</style>\n",
       "<table border=\"1\" class=\"dataframe\">\n",
       "  <thead>\n",
       "    <tr style=\"text-align: right;\">\n",
       "      <th></th>\n",
       "      <th>date</th>\n",
       "      <th>cloud_cover</th>\n",
       "      <th>sunshine</th>\n",
       "      <th>global_radiation</th>\n",
       "      <th>mean_temp</th>\n",
       "      <th>min_temp</th>\n",
       "      <th>precipitation</th>\n",
       "      <th>pressure</th>\n",
       "      <th>snow_depth</th>\n",
       "    </tr>\n",
       "  </thead>\n",
       "  <tbody>\n",
       "    <tr>\n",
       "      <th>0</th>\n",
       "      <td>19790101</td>\n",
       "      <td>2.0</td>\n",
       "      <td>7.0</td>\n",
       "      <td>52.0</td>\n",
       "      <td>-4.1</td>\n",
       "      <td>-7.5</td>\n",
       "      <td>0.4</td>\n",
       "      <td>101900.0</td>\n",
       "      <td>9.0</td>\n",
       "    </tr>\n",
       "    <tr>\n",
       "      <th>1</th>\n",
       "      <td>19790102</td>\n",
       "      <td>6.0</td>\n",
       "      <td>1.7</td>\n",
       "      <td>27.0</td>\n",
       "      <td>-2.6</td>\n",
       "      <td>-7.5</td>\n",
       "      <td>0.0</td>\n",
       "      <td>102530.0</td>\n",
       "      <td>8.0</td>\n",
       "    </tr>\n",
       "    <tr>\n",
       "      <th>2</th>\n",
       "      <td>19790103</td>\n",
       "      <td>5.0</td>\n",
       "      <td>0.0</td>\n",
       "      <td>13.0</td>\n",
       "      <td>-2.8</td>\n",
       "      <td>-7.2</td>\n",
       "      <td>0.0</td>\n",
       "      <td>102050.0</td>\n",
       "      <td>4.0</td>\n",
       "    </tr>\n",
       "    <tr>\n",
       "      <th>3</th>\n",
       "      <td>19790104</td>\n",
       "      <td>8.0</td>\n",
       "      <td>0.0</td>\n",
       "      <td>13.0</td>\n",
       "      <td>-2.6</td>\n",
       "      <td>-6.5</td>\n",
       "      <td>0.0</td>\n",
       "      <td>100840.0</td>\n",
       "      <td>2.0</td>\n",
       "    </tr>\n",
       "    <tr>\n",
       "      <th>4</th>\n",
       "      <td>19790105</td>\n",
       "      <td>6.0</td>\n",
       "      <td>2.0</td>\n",
       "      <td>29.0</td>\n",
       "      <td>-0.8</td>\n",
       "      <td>-1.4</td>\n",
       "      <td>0.0</td>\n",
       "      <td>102250.0</td>\n",
       "      <td>1.0</td>\n",
       "    </tr>\n",
       "    <tr>\n",
       "      <th>...</th>\n",
       "      <td>...</td>\n",
       "      <td>...</td>\n",
       "      <td>...</td>\n",
       "      <td>...</td>\n",
       "      <td>...</td>\n",
       "      <td>...</td>\n",
       "      <td>...</td>\n",
       "      <td>...</td>\n",
       "      <td>...</td>\n",
       "    </tr>\n",
       "    <tr>\n",
       "      <th>14970</th>\n",
       "      <td>20191227</td>\n",
       "      <td>8.0</td>\n",
       "      <td>0.0</td>\n",
       "      <td>12.0</td>\n",
       "      <td>7.5</td>\n",
       "      <td>6.6</td>\n",
       "      <td>0.0</td>\n",
       "      <td>102880.0</td>\n",
       "      <td>0.0</td>\n",
       "    </tr>\n",
       "    <tr>\n",
       "      <th>14971</th>\n",
       "      <td>20191228</td>\n",
       "      <td>8.0</td>\n",
       "      <td>0.0</td>\n",
       "      <td>12.0</td>\n",
       "      <td>8.1</td>\n",
       "      <td>6.6</td>\n",
       "      <td>0.0</td>\n",
       "      <td>103630.0</td>\n",
       "      <td>0.0</td>\n",
       "    </tr>\n",
       "    <tr>\n",
       "      <th>14972</th>\n",
       "      <td>20191229</td>\n",
       "      <td>6.0</td>\n",
       "      <td>2.2</td>\n",
       "      <td>29.0</td>\n",
       "      <td>8.7</td>\n",
       "      <td>7.4</td>\n",
       "      <td>0.0</td>\n",
       "      <td>103360.0</td>\n",
       "      <td>0.0</td>\n",
       "    </tr>\n",
       "    <tr>\n",
       "      <th>14973</th>\n",
       "      <td>20191230</td>\n",
       "      <td>0.0</td>\n",
       "      <td>3.6</td>\n",
       "      <td>37.0</td>\n",
       "      <td>6.5</td>\n",
       "      <td>1.5</td>\n",
       "      <td>0.0</td>\n",
       "      <td>102970.0</td>\n",
       "      <td>0.0</td>\n",
       "    </tr>\n",
       "    <tr>\n",
       "      <th>14974</th>\n",
       "      <td>20191231</td>\n",
       "      <td>7.0</td>\n",
       "      <td>0.0</td>\n",
       "      <td>13.0</td>\n",
       "      <td>7.1</td>\n",
       "      <td>4.9</td>\n",
       "      <td>0.0</td>\n",
       "      <td>103160.0</td>\n",
       "      <td>0.0</td>\n",
       "    </tr>\n",
       "  </tbody>\n",
       "</table>\n",
       "<p>13843 rows × 9 columns</p>\n",
       "</div>"
      ],
      "text/plain": [
       "           date  cloud_cover  sunshine  global_radiation  mean_temp  min_temp  \\\n",
       "0      19790101          2.0       7.0              52.0       -4.1      -7.5   \n",
       "1      19790102          6.0       1.7              27.0       -2.6      -7.5   \n",
       "2      19790103          5.0       0.0              13.0       -2.8      -7.2   \n",
       "3      19790104          8.0       0.0              13.0       -2.6      -6.5   \n",
       "4      19790105          6.0       2.0              29.0       -0.8      -1.4   \n",
       "...         ...          ...       ...               ...        ...       ...   \n",
       "14970  20191227          8.0       0.0              12.0        7.5       6.6   \n",
       "14971  20191228          8.0       0.0              12.0        8.1       6.6   \n",
       "14972  20191229          6.0       2.2              29.0        8.7       7.4   \n",
       "14973  20191230          0.0       3.6              37.0        6.5       1.5   \n",
       "14974  20191231          7.0       0.0              13.0        7.1       4.9   \n",
       "\n",
       "       precipitation  pressure  snow_depth  \n",
       "0                0.4  101900.0         9.0  \n",
       "1                0.0  102530.0         8.0  \n",
       "2                0.0  102050.0         4.0  \n",
       "3                0.0  100840.0         2.0  \n",
       "4                0.0  102250.0         1.0  \n",
       "...              ...       ...         ...  \n",
       "14970            0.0  102880.0         0.0  \n",
       "14971            0.0  103630.0         0.0  \n",
       "14972            0.0  103360.0         0.0  \n",
       "14973            0.0  102970.0         0.0  \n",
       "14974            0.0  103160.0         0.0  \n",
       "\n",
       "[13843 rows x 9 columns]"
      ]
     },
     "execution_count": 8,
     "metadata": {},
     "output_type": "execute_result"
    }
   ],
   "source": [
    "X_dummy = X_dummy.drop(['max_temp'],1)\n",
    "X_dummy"
   ]
  },
  {
   "cell_type": "code",
   "execution_count": 9,
   "id": "39a06e09",
   "metadata": {},
   "outputs": [],
   "source": [
    "\n",
    "y = np.c_[weather[\"max_temp\"]]"
   ]
  },
  {
   "cell_type": "code",
   "execution_count": 10,
   "id": "add8de97",
   "metadata": {},
   "outputs": [
    {
     "name": "stdout",
     "output_type": "stream",
     "text": [
      "[[ 0.03141202 -0.24289135 -1.01284618  1.09026265  9.50236147 -4.08818351\n",
      "  -0.12500928  0.27914072  0.0160878 ]]\n"
     ]
    }
   ],
   "source": [
    "scaler = StandardScaler()\n",
    "X_scaled = scaler.fit_transform(X_dummy)\n",
    "lin_reg_2b = LinearRegression()\n",
    "lin_reg_2b.fit(X_scaled, y)\n",
    "print(lin_reg_2b.coef_)"
   ]
  },
  {
   "cell_type": "markdown",
   "id": "52551b64",
   "metadata": {},
   "source": [
    "TUNING RIDGE HYPERPARAMETER and BUILDING RIDGE REGRESSION MODEL"
   ]
  },
  {
   "cell_type": "code",
   "execution_count": 44,
   "id": "38b224cb",
   "metadata": {},
   "outputs": [
    {
     "name": "stdout",
     "output_type": "stream",
     "text": [
      "Best alpha: 0.01\n",
      "Mean Squared Error for train data is: 5.394267560820061\n",
      "Mean Squared Error for test data is: 5.413938201858678\n",
      "R-Squared for train data is: 0.8722461782252111\n",
      "R-Squared for test data is: 0.8741042549163085\n"
     ]
    }
   ],
   "source": [
    "import pandas as pd\n",
    "from sklearn.model_selection import train_test_split\n",
    "from sklearn.preprocessing import StandardScaler\n",
    "from sklearn.linear_model import RidgeCV\n",
    "from sklearn.metrics import mean_squared_error\n",
    "\n",
    "ridge_coef = []\n",
    "# Split the data into training and test sets\n",
    "X_train, X_test, y_train, y_test = train_test_split(X_dummy, y, test_size=0.2, random_state=42)\n",
    "\n",
    "\n",
    "# Standardize features\n",
    "scaler = StandardScaler()\n",
    "X_train_scaled = scaler.fit_transform(X_train)\n",
    "X_test_scaled = scaler.transform(X_test)\n",
    "\n",
    "# Define a range of alpha values for cross-validation\n",
    "alphas = [0.01, 0.1, 1, 10, 100]  # You can adjust this range\n",
    "\n",
    "\n",
    "\n",
    "\n",
    "# Build ridge regression model with cross-validation\n",
    "ridge_model = RidgeCV(alphas=alphas, store_cv_values=True)\n",
    "ridge_model.fit(X_train_scaled, y_train)\n",
    "\n",
    "\n",
    "\n",
    "# Find the best alpha based on cross-validation results\n",
    "best_alpha = ridge_model.alpha_\n",
    "print(\"Best alpha:\", best_alpha)\n",
    "\n",
    "# Predict using the best model\n",
    "y_pred_train = ridge_model.predict(X_train_scaled)\n",
    "y_pred_test = ridge_model.predict(X_test_scaled)\n",
    "\n",
    "# Calculate mean squared error\n",
    "mse_train = mean_squared_error(y_train, y_pred_train)\n",
    "mse_test = mean_squared_error(y_test, y_pred_test)\n",
    "\n",
    "# Calculate R² for training and test sets\n",
    "train_r2 = r2_score(y_train, y_pred_train)\n",
    "test_r2 = r2_score(y_test, y_pred_test)\n",
    "print(\"Mean Squared Error for train data is:\", mse_train)\n",
    "print(\"Mean Squared Error for test data is:\", mse_test)\n",
    "\n",
    "print(\"R-Squared for train data is:\", train_r2)\n",
    "print(\"R-Squared for test data is:\", test_r2)"
   ]
  },
  {
   "cell_type": "markdown",
   "id": "9ce4fc68",
   "metadata": {},
   "source": [
    "This shows that the best hyperparameter (alpha) for the Ridge Regression model, as determined through hyperparameter tuning, is 0.01. The result signifies that the Ridge Regression model with an alpha value of 0.01 has good predictive performance. The model doesn't appear to overfit the training data, as the test performance (test MSE and test R²) is similar to the training performance, indicating that the model generalizes well to new data."
   ]
  },
  {
   "cell_type": "code",
   "execution_count": 43,
   "id": "1069664a",
   "metadata": {},
   "outputs": [
    {
     "name": "stderr",
     "output_type": "stream",
     "text": [
      "D:\\DikshApps\\lib\\site-packages\\sklearn\\base.py:443: UserWarning: X has feature names, but Ridge was fitted without feature names\n",
      "  warnings.warn(\n",
      "D:\\DikshApps\\lib\\site-packages\\sklearn\\base.py:443: UserWarning: X has feature names, but Ridge was fitted without feature names\n",
      "  warnings.warn(\n",
      "D:\\DikshApps\\lib\\site-packages\\sklearn\\base.py:443: UserWarning: X has feature names, but Ridge was fitted without feature names\n",
      "  warnings.warn(\n",
      "D:\\DikshApps\\lib\\site-packages\\sklearn\\base.py:443: UserWarning: X has feature names, but Ridge was fitted without feature names\n",
      "  warnings.warn(\n",
      "D:\\DikshApps\\lib\\site-packages\\sklearn\\base.py:443: UserWarning: X has feature names, but Ridge was fitted without feature names\n",
      "  warnings.warn(\n"
     ]
    },
    {
     "data": {
      "image/png": "[encoded data removed]",
      "text/plain": [
       "<Figure size 1000x600 with 1 Axes>"
      ]
     },
     "metadata": {},
     "output_type": "display_data"
    }
   ],
   "source": [
    "#defining empty list for train and test MSE\n",
    "mse_train=[]\n",
    "mse_test=[]\n",
    "\n",
    "for alpha in alphas:\n",
    "    # Create a Ridge Regression model with the current alpha\n",
    "    ridge_model = Ridge(alpha=alpha)\n",
    "\n",
    "    # Fit the model to the training data\n",
    "    ridge_model.fit(X_train_scaled, y_train)\n",
    "\n",
    "    # Make predictions on both the training and test data\n",
    "    y_train_pred = ridge_model.predict(X_train_scaled)\n",
    "    y_test_pred = ridge_model.predict(X_test)\n",
    "\n",
    "    # Calculate MSE for training and test sets\n",
    "    mse_train.append(mean_squared_error(y_train, y_train_pred))\n",
    "    mse_test.append(mean_squared_error(y_test, y_test_pred))\n",
    "\n",
    "# Plot train MSE vs. test MSE\n",
    "plt.figure(figsize=(10, 6))\n",
    "plt.plot(alphas, mse_train, label='Train MSE', marker='o')\n",
    "plt.plot(alphas, mse_test, label='Test MSE', marker='o')\n",
    "plt.title('Train MSE vs. Test MSE for Ridge Regression')\n",
    "plt.xlabel('Alpha (Regularization Strength)')\n",
    "plt.ylabel('Mean Squared Error (MSE)')\n",
    "plt.xscale('log')  # Use a logarithmic scale for alpha values\n",
    "plt.legend()\n",
    "plt.grid(True)\n",
    "plt.show()\n",
    "\n",
    "\n",
    "\n",
    "\n",
    "\n"
   ]
  },
  {
   "cell_type": "markdown",
   "id": "72d56cc4",
   "metadata": {},
   "source": []
  },
  {
   "cell_type": "code",
   "execution_count": null,
   "id": "31276524",
   "metadata": {},
   "outputs": [],
   "source": []
  }
 ],
 "metadata": {
  "kernelspec": {
   "display_name": "Python 3 (ipykernel)",
   "language": "python",
   "name": "python3"
  },
  "language_info": {
   "codemirror_mode": {
    "name": "ipython",
    "version": 3
   },
   "file_extension": ".py",
   "mimetype": "text/x-python",
   "name": "python",
   "nbconvert_exporter": "python",
   "pygments_lexer": "ipython3",
   "version": "3.9.13"
  }
 },
 "nbformat": 4,
 "nbformat_minor": 5
}
